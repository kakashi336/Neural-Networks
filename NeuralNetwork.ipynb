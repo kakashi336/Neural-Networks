{
 "cells": [
  {
   "cell_type": "markdown",
   "metadata": {},
   "source": [
    "##### Arjun Prakash (21239525)\n",
    "##### MSc-1MAI\n",
    "##### Assignment -2 \n",
    "\n",
    "## Importing and Class implementation"
   ]
  },
  {
   "cell_type": "code",
   "execution_count": 1,
   "metadata": {},
   "outputs": [],
   "source": [
    "import numpy as np\n",
    "import pandas as pd\n",
    "from sklearn.model_selection import train_test_split\n",
    "from sklearn.preprocessing import StandardScaler\n",
    "from sklearn.metrics import f1_score\n",
    "from sklearn.neural_network import MLPClassifier\n",
    "import matplotlib.pyplot as plt\n",
    "import pickle as pk\n",
    "\n",
    "#Implementing sigmoid function\n",
    "def sig(x):\n",
    "    return 1/(1+ np.exp(-x))\n",
    "\n",
    "#implementing NeuralNetwork class\n",
    "class NeuralNet:\n",
    "    def __init__(self, x, y):\n",
    "        self.input    = x                 #Initializing Input layer\n",
    "        self.y        = y                 # Initializing actual outputs\n",
    "        # Initializing Weights for input to 1st layer of dimension (n,6) where n is the input dimension\n",
    "        self.weights_l1   = np.random.rand(self.input.shape[1],6)       \n",
    "        # Initializing Weights for layer 2 to 3\n",
    "        self.weights_l2 = np.random.rand(len(self.weights_l1[0]),6)\n",
    "        # Initializing weights for layer 3-4 with dimension (6,1)\n",
    "        self.weights_l3 = np.random.rand(len(self.weights_l2[0]),1)\n",
    "        # Initializing predicted output neuron\n",
    "        self.output     = np.zeros(y.shape)\n",
    "        \n",
    "        # Initializing layers\n",
    "        self.layer1=0\n",
    "        self.layer2=0\n",
    "        self.output=0\n",
    "        \n",
    "        # List for storing the decrease in loss with respect to epochs\n",
    "        self.loss=[]\n",
    "        \n",
    "    # Feed forward implementation without using bias variable\n",
    "    def feed_forward(self):\n",
    "        self.layer1=sig(np.dot(self.input,self.weights_l1))\n",
    "        self.layer2=sig(np.dot(self.layer1,self.weights_l2))\n",
    "        self.output=sig(np.dot(self.layer2,self.weights_l3))\n",
    "        \n",
    "    # Backpropagation for training the model and reducing the loss \n",
    "    def back_propagate(self):\n",
    "        #storing loss of each epochs in a list\n",
    "        self.loss.append(1/len(self.input)*np.log((self.y+1)/(self.output+1))) #Mean Squared Logarithmic Error Loss.\n",
    "        \n",
    "        # Updating weights of 3rd to 4th layer and storing it in der_weights\n",
    "        change_w3=2*(self.y - self.output)*self.output*(1-self.output)   # \n",
    "        der_weights_3 = (1/len(self.input))*np.dot(self.layer2.T,change_w3)\n",
    "        \n",
    "        # Updating weights of 2nd to 3rd layer and storing it in der_weights\n",
    "        change_w2=np.dot(change_w3,self.weights_l3.T) * self.layer2*(1-self.layer2)\n",
    "        der_weights_2 = (1/len(self.input))*np.dot(self.layer1.T,change_w2)\n",
    "        \n",
    "        # Updating weights of 1st to 2nd layer and storing it in der_weights        \n",
    "        change_w1=np.dot(change_w2,self.weights_l2.T)*self.layer1*(1-self.layer1)\n",
    "        der_weights_1= (1/len(self.input))*np.dot(self.input.T,change_w1)\n",
    "        \n",
    "        # Updating all the weights \n",
    "        self.weights_l1+=der_weights_1   \n",
    "        self.weights_l2+=der_weights_2\n",
    "        self.weights_l3+=der_weights_3\n",
    "   \n",
    "    # Function for training the model\n",
    "    def fit_nn(self,epochs):\n",
    "        for i in range(epochs):\n",
    "            self.feed_forward()    \n",
    "            self.back_propagate()\n",
    "            \n",
    "    # Function for predicting the model\n",
    "    def predict_nn(self,test_input):\n",
    "        test=sig(np.dot(test_input,self.weights_l1))\n",
    "        test1=sig(np.dot(test,self.weights_l2))\n",
    "        testout=sig(np.dot(test1,self.weights_l3))\n",
    "        return testout\n",
    "    \n",
    "\n",
    "    # For returning weights\n",
    "    def getweights(self):\n",
    "        return self.weights_l1, self.weights_l2,self.weights_l3\n",
    "    \n",
    "    def __str__(self):\n",
    "        return \"Network is of shape:{0},{1},{2},{3}\".format(self.input.shape,self.weights_l1[0].shape,self.weights_l2[0].shape,\n",
    "                                                                self.weights_l3[0].shape)    "
   ]
  },
  {
   "cell_type": "markdown",
   "metadata": {},
   "source": [
    "### Preprocessing"
   ]
  },
  {
   "cell_type": "code",
   "execution_count": 2,
   "metadata": {},
   "outputs": [],
   "source": [
    "# Naming all the columns of the data file. Input own column names by changing this variable\n",
    "col=[\"fire\", \"year\", \"temp\", \"humidity\", \"rainfall\", \"drought_code\", \"buildup_index\", \"day\", \"month\", \"wind_speed\"]\n",
    "\n",
    "# Reading the data file, change this path depending on the file location\n",
    "data=pd.read_csv(\"D:\\StudyMaterial - MSc AI\\Semister 1\\ML\\Assignment-2\\wildfire.txt\",names=col)\n",
    "\n",
    "# Preprocessing all the texts of output column to 0/1 \n",
    "data['fire']=data['fire'].replace(\"no\",0)\n",
    "data['fire']=data['fire'].replace(\"yes\",1)\n",
    "\n"
   ]
  },
  {
   "cell_type": "markdown",
   "metadata": {},
   "source": [
    "### Training"
   ]
  },
  {
   "cell_type": "code",
   "execution_count": 3,
   "metadata": {},
   "outputs": [
    {
     "name": "stdout",
     "output_type": "stream",
     "text": [
      "Itr: 1\n",
      "F1 score (Own Model) : 0.8974358974358975\n",
      "\n",
      "Train data prediction F1 score (Sklearn): 0.9923664122137404\n",
      "Test data prediciton F1 score (sklearn): 0.8205128205128206\n",
      "\n",
      "Itr: 2\n",
      "F1 score (Own Model) : 0.8571428571428571\n",
      "\n",
      "Train data prediction F1 score (Sklearn): 1.0\n",
      "Test data prediciton F1 score (sklearn): 0.8219178082191781\n",
      "\n",
      "Itr: 3\n",
      "F1 score (Own Model) : 0.8571428571428571\n",
      "\n",
      "Train data prediction F1 score (Sklearn): 0.9864864864864865\n",
      "Test data prediciton F1 score (sklearn): 0.8378378378378378\n",
      "\n"
     ]
    },
    {
     "name": "stderr",
     "output_type": "stream",
     "text": [
      "C:\\Users\\arjun\\anaconda3\\lib\\site-packages\\sklearn\\neural_network\\_multilayer_perceptron.py:582: ConvergenceWarning: Stochastic Optimizer: Maximum iterations (1800) reached and the optimization hasn't converged yet.\n",
      "  warnings.warn(\n"
     ]
    },
    {
     "name": "stdout",
     "output_type": "stream",
     "text": [
      "Itr: 4\n",
      "F1 score (Own Model) : 0.8831168831168831\n",
      "\n",
      "Train data prediction F1 score (Sklearn): 0.9857142857142858\n",
      "Test data prediciton F1 score (sklearn): 0.8169014084507042\n",
      "\n",
      "Itr: 5\n",
      "F1 score (Own Model) : 0.8823529411764706\n",
      "\n",
      "Train data prediction F1 score (Sklearn): 1.0\n",
      "Test data prediciton F1 score (sklearn): 0.9253731343283583\n",
      "\n",
      "Itr: 6\n",
      "F1 score (Own Model) : 0.8823529411764706\n",
      "\n",
      "Train data prediction F1 score (Sklearn): 0.9931972789115647\n",
      "Test data prediciton F1 score (sklearn): 0.9142857142857143\n",
      "\n"
     ]
    },
    {
     "name": "stderr",
     "output_type": "stream",
     "text": [
      "C:\\Users\\arjun\\anaconda3\\lib\\site-packages\\sklearn\\neural_network\\_multilayer_perceptron.py:582: ConvergenceWarning: Stochastic Optimizer: Maximum iterations (1800) reached and the optimization hasn't converged yet.\n",
      "  warnings.warn(\n"
     ]
    },
    {
     "name": "stdout",
     "output_type": "stream",
     "text": [
      "Itr: 7\n",
      "F1 score (Own Model) : 0.875\n",
      "\n",
      "Train data prediction F1 score (Sklearn): 0.9928057553956835\n",
      "Test data prediciton F1 score (sklearn): 0.8717948717948718\n",
      "\n",
      "Itr: 8\n",
      "F1 score (Own Model) : 0.7999999999999999\n",
      "\n",
      "Train data prediction F1 score (Sklearn): 1.0\n",
      "Test data prediciton F1 score (sklearn): 0.8571428571428571\n",
      "\n",
      "Itr: 9\n",
      "F1 score (Own Model) : 0.90625\n",
      "\n",
      "Train data prediction F1 score (Sklearn): 1.0\n",
      "Test data prediciton F1 score (sklearn): 0.8852459016393444\n",
      "\n",
      "Itr: 10\n",
      "F1 score (Own Model) : 0.8307692307692308\n",
      "\n",
      "Train data prediction F1 score (Sklearn): 1.0\n",
      "Test data prediciton F1 score (sklearn): 0.7619047619047619\n",
      "\n",
      "\n",
      "Trained with: 136.0  samples\n",
      "Tested with : 68.0  samples\n",
      "Total data size: 204\n"
     ]
    }
   ],
   "source": [
    "# Variable for storing F1 score of the model\n",
    "own=[]\n",
    "# List for storing F1 score of sklearn classifier\n",
    "skf1=[]\n",
    "\n",
    "# Running the train/test and prediction 10 times\n",
    "for itr in range(10):\n",
    "    # splitting train/test data with random shuffles in evry iteration\n",
    "    X_train, X_test, y_train, y_test = train_test_split(data, data[\"fire\"],test_size=0.33333)\n",
    "    \n",
    "    # Dropping fire column \n",
    "    X_train=np.array(X_train.drop(labels=[\"fire\"],axis=1))\n",
    "    y_train=np.array([[i] for i in y_train.tolist()])\n",
    "\n",
    "    y_test=np.array([[i] for i in y_test.tolist()])\n",
    "    X_test=np.array(X_test.drop(labels=[\"fire\"],axis=1))\n",
    "    \n",
    "    # Standarizing data, this makes mean as 0 and standard deviation as 1. \n",
    "    scl_x=StandardScaler()\n",
    "    normalised_x=scl_x.fit_transform(X_train)\n",
    "    normalised_y=scl_x.transform(X_test)\n",
    "            \n",
    "    # Initializing neuralnetwork object with training data at 1800 epochs\n",
    "    nn = NeuralNet(normalised_x,y_train)\n",
    "    # Adjust this value for changing epochs \n",
    "    epochs=1800\n",
    "    nn.fit_nn(epochs)\n",
    "    \n",
    "    # List for storing classified data\n",
    "    predicted=[]\n",
    "    for i,j in zip(normalised_y,y_test):\n",
    "        predicted.append(np.round(nn.predict_nn(i)).tolist())\n",
    "     # List for storing F1 score of the model\n",
    "    own.append(f1_score(predicted,y_test))\n",
    "    \n",
    "     #Exporting predicted files.\n",
    "    file=pd.DataFrame()\n",
    "    file['predicted']=predicted\n",
    "    file['actual']=y_test\n",
    "    file['predicted']=file['predicted'].apply(lambda x: int(np.array(x)))\n",
    "    file['Correct_Classification']=file['predicted']==file['actual']\n",
    "    file.to_csv('Predictions_{}.csv'.format(itr+1),index=False)\n",
    "    \n",
    "    \n",
    "    # Pickling the weights - Uncomment the below line for pickling weights\n",
    "    #pk.dump(nn,open(\"model_{}.pkl\".format(itr+1), \"wb\"))\n",
    "    \n",
    "    #--------------------------------------------------------------------------------#\n",
    "    \n",
    "    # Implementing SKlearn Multi Layer Perceptron model with same number of neurons as above.\n",
    "\n",
    "    mlp = MLPClassifier(hidden_layer_sizes=(6,6), activation='tanh', max_iter=epochs)\n",
    "    mlp.fit(normalised_x,np.ravel(y_train))\n",
    "\n",
    "    predict_train = mlp.predict(normalised_x)\n",
    "    predict_test = mlp.predict(normalised_y)\n",
    "    skf1.append(f1_score(predict_test,y_test))\n",
    "    \n",
    "    # Printing F1 scores for both the models. \n",
    "    print(\"Itr:\",itr+1)\n",
    "    print(\"F1 score (Own Model)\",\":\",own[-1])\n",
    "    print(\"\\nTrain data prediction F1 score (Sklearn):\",f1_score(predict_train,y_train))\n",
    "    print(\"Test data prediciton F1 score (sklearn):\",skf1[-1])\n",
    "    print()\n",
    "\n",
    "# Printing data details\n",
    "print(\"\\nTrained with:\", len(normalised_x)*len(y_train)/len(normalised_x),\" samples\")\n",
    "print(\"Tested with :\",len(normalised_y)*len(y_test)/len(normalised_y),\" samples\")\n",
    "print('Total data size:',len(data))"
   ]
  },
  {
   "cell_type": "markdown",
   "metadata": {},
   "source": [
    "## Visualization"
   ]
  },
  {
   "cell_type": "code",
   "execution_count": 4,
   "metadata": {},
   "outputs": [],
   "source": [
    "# Dataframe containing F1 Scores of both the models and the difference in their F1 scores\n",
    "df=pd.DataFrame()\n",
    "df['own_model']=own\n",
    "df['sklearn_model']=skf1\n",
    "df['difference']=df['own_model']-df['sklearn_model']\n",
    "\n",
    "#df"
   ]
  },
  {
   "cell_type": "code",
   "execution_count": 5,
   "metadata": {},
   "outputs": [
    {
     "data": {
      "text/plain": [
       "<matplotlib.legend.Legend at 0x2106608e430>"
      ]
     },
     "execution_count": 5,
     "metadata": {},
     "output_type": "execute_result"
    },
    {
     "data": {
      "image/png": "[encoded data removed]",
      "text/plain": [
       "<Figure size 432x288 with 1 Axes>"
      ]
     },
     "metadata": {
      "needs_background": "light"
     },
     "output_type": "display_data"
    }
   ],
   "source": [
    "# Plotting the scores for each shuffle (10 times)\n",
    "plt.xlabel(\"Iterations\")\n",
    "plt.ylabel(\"F1 Score\")\n",
    "plt.plot(df['own_model'],label=\"Own Model\")\n",
    "plt.plot(df['sklearn_model'],label=\"Sklearn Model\")\n",
    "plt.plot([df['own_model'].mean() for i in range(10)], label='Mean F1: Own model')\n",
    "plt.plot([df['sklearn_model'].mean() for i in range(10)], label='Mean F1: Sklearn')\n",
    "\n",
    "plt.legend()\n"
   ]
  },
  {
   "cell_type": "code",
   "execution_count": 6,
   "metadata": {},
   "outputs": [
    {
     "data": {
      "text/plain": [
       "<matplotlib.legend.Legend at 0x21066177af0>"
      ]
     },
     "execution_count": 6,
     "metadata": {},
     "output_type": "execute_result"
    },
    {
     "data": {
      "image/png": "[encoded data removed]",
      "text/plain": [
       "<Figure size 432x288 with 1 Axes>"
      ]
     },
     "metadata": {
      "needs_background": "light"
     },
     "output_type": "display_data"
    }
   ],
   "source": [
    "\n",
    "# Plotting the difference. For values <0, Sklearn had better classification accuracy.\n",
    "plt.plot(df['difference'],label=\"Own model vs Sklearn\")\n",
    "plt.plot([0 for i in range(10)])\n",
    "plt.legend()"
   ]
  },
  {
   "cell_type": "code",
   "execution_count": 11,
   "metadata": {},
   "outputs": [],
   "source": [
    "# calculating loss\n",
    "loss=np.sum(nn.loss,axis=1)*-1\n"
   ]
  },
  {
   "cell_type": "markdown",
   "metadata": {},
   "source": [
    "### Loss/Cost Function"
   ]
  },
  {
   "cell_type": "code",
   "execution_count": 12,
   "metadata": {},
   "outputs": [
    {
     "data": {
      "text/plain": [
       "<matplotlib.legend.Legend at 0x2106625f160>"
      ]
     },
     "execution_count": 12,
     "metadata": {},
     "output_type": "execute_result"
    },
    {
     "data": {
      "image/png": "[encoded data removed]",
      "text/plain": [
       "<Figure size 432x288 with 1 Axes>"
      ]
     },
     "metadata": {
      "needs_background": "light"
     },
     "output_type": "display_data"
    }
   ],
   "source": [
    "\n",
    "# Plotting loss for each Epoch\n",
    "plt.plot(loss,label=\"Mean Sqrd Logarithmic Error\")\n",
    "plt.xlabel(\"Epochs\")\n",
    "plt.ylabel(\"Loss\")\n",
    "plt.legend()"
   ]
  },
  {
   "cell_type": "code",
   "execution_count": null,
   "metadata": {},
   "outputs": [],
   "source": []
  }
 ],
 "metadata": {
  "kernelspec": {
   "display_name": "Python 3",
   "language": "python",
   "name": "python3"
  },
  "language_info": {
   "codemirror_mode": {
    "name": "ipython",
    "version": 3
   },
   "file_extension": ".py",
   "mimetype": "text/x-python",
   "name": "python",
   "nbconvert_exporter": "python",
   "pygments_lexer": "ipython3",
   "version": "3.8.5"
  }
 },
 "nbformat": 4,
 "nbformat_minor": 4
}
